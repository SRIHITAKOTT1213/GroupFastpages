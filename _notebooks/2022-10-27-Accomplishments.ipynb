{
 "cells": [
  {
   "cell_type": "markdown",
   "metadata": {},
   "source": [
    "# First Jupyter Notebook\n",
    "\n",
    "> Made a lot of Progress!!\n",
    "\n",
    "- title: Accomplishments\n",
    "- toc: true\n",
    "- comments: true\n",
    "- title: Accomplishments"
   ]
  },
  {
   "cell_type": "markdown",
   "metadata": {},
   "source": [
    "**Sri:** 10/26\n",
    "- So far, what I did was I coded the game Snake. First I did it in python, not knowing that it would open in a terminal and I would not be able to put it on my website. So after that I deleted it and I worked on it using Javascript, because it could be put on a website, or so I was told. After I finished that, I changed my part of the Flask but I wasn't able to put the actual game on there and as it turns out that we have to use fastpages for the frontend, and I am pretty sure I am done with the backend part as well the Devops part, so all I have to work on is the frontend."
   ]
  },
  {
   "cell_type": "markdown",
   "metadata": {},
   "source": [
    "**Nathan Kim:** 10/27\n",
    "- I was off to a pretty rough start when I couldn't properly commit and sync ANY changes to our group fastpages and flask. However, with the help from access tokens, I was finally able to start coding. As the backend developer, I am working mainly on our Flask repo. Like Sri, I also started off with python, but then realized that it would not display on the website. As a result, I started working using JavaScript in order to work behind the scenes in order to create my game. "
   ]
  },
  {
   "cell_type": "markdown",
   "metadata": {},
   "source": [
    "**Max Wu:** 10/27\n",
    "- As the scrum master of loophole games, I partook in mainly planning the project and working on my group assignment, which is creating a pong game in the frontend. In terms of developing, our group is a little behind schedul. However, with everything sorted out today, we now have a clear plan of attack and now know our exact roles in terms of backend and frontend work. For the pong game, I have written a working code for the game in javascript, and I am now transferring that work into a fast pages (frontend). We are mainly planning to finish our game by this weekend, and start on the jokes/api to transfer data from frontend to backend for the leaderboard that will appear on our flask page."
   ]
  },
  {
   "cell_type": "markdown",
   "metadata": {},
   "source": [
    "**Nathan Kim:** 11/1\n",
    "- Over the weekend, I was able to implement our API into our new food app. Like Mortenson mentioned in class, I was also tried to implement my JavaScript, and the html and css into one consecutive file. Even though we shifted from a game website to a food recipe app, we have made more progress than we ever had with the food idea. "
   ]
  },
  {
   "cell_type": "markdown",
   "metadata": {},
   "source": [
    "**Alyssa:** 11/1\n",
    "- So far, I was able to develop the html and css elements to make our food recipe app visually appealing to the viewer. "
   ]
  }
 ],
 "metadata": {
  "kernelspec": {
   "display_name": "Python 3.8.2 64-bit",
   "language": "python",
   "name": "python3"
  },
  "language_info": {
   "name": "python",
   "version": "3.8.2"
  },
  "orig_nbformat": 4,
  "vscode": {
   "interpreter": {
    "hash": "916dbcbb3f70747c44a77c7bcd40155683ae19c65e1c03b4aa3499c5328201f1"
   }
  }
 },
 "nbformat": 4,
 "nbformat_minor": 2
}
