{
 "cells": [
  {
   "cell_type": "markdown",
   "metadata": {},
   "source": [
    "# First Jupyter Notebook\n",
    "\n",
    "> Made a lot of Progress!!\n",
    "\n",
    "- title: Accomplishments\n",
    "- toc: true\n",
    "- comments: true\n",
    "- title: Accomplishments"
   ]
  },
  {
   "cell_type": "markdown",
   "metadata": {},
   "source": [
    "**Sri:**\n",
    "- So far, what I did was I coded the game Snake. First I did it in python, not knowing that it would open in a terminal and I would not be able to put it on my website. So after that I deleted it and I worked on it using Javascript, because it could be put on a website, or so I was told. After I finished that, I changed my part of the Flask but I wasn't able to put the actual game on there and as it turns out that we have to use fastpages for the frontend, and I am pretty sure I am done with the backend part as well the Devops part, so all I have to work on is the frontend."
   ]
  },
  {
   "cell_type": "markdown",
   "metadata": {},
   "source": [
    "**Nathan Kim:**\n",
    "- I was off to a pretty rough start when I couldn't properly commit and sync ANY changes to our group fastpages and flask. However, with the help from access tokens, I was finally able to start coding. As the backend developer, I am working mainly on our Flask repo. Like Sri, I also started off with python, but then realized that it would not display on the website. As a result, I started working using JavaScript in order to work behind the scenes in order to create my game. "
   ]
  }
 ],
 "metadata": {
  "kernelspec": {
   "display_name": "Python 3.8.2 64-bit",
   "language": "python",
   "name": "python3"
  },
  "language_info": {
   "name": "python",
   "version": "3.8.2"
  },
  "orig_nbformat": 4,
  "vscode": {
   "interpreter": {
    "hash": "916dbcbb3f70747c44a77c7bcd40155683ae19c65e1c03b4aa3499c5328201f1"
   }
  }
 },
 "nbformat": 4,
 "nbformat_minor": 2
}
