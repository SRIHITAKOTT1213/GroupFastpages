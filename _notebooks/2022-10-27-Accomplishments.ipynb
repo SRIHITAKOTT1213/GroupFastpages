{
 "cells": [
  {
   "cell_type": "markdown",
   "metadata": {},
   "source": [
    "# First Jupyter Notebook\n",
    "\n",
    "> Made a lot of Progress!!\n",
    "\n",
    "- title: Accomplishments\n",
    "- toc: true\n",
    "- comments: true\n",
    "- title: Accomplishments"
   ]
  },
  {
   "cell_type": "markdown",
   "metadata": {},
   "source": [
    "**Sri:**\n",
    "- So far, what I did was I coded the game Snake. First I did it in python, not knowing that it would open in a terminal and I would not be able to put it on my website. So after that I deleted it and I worked on it using Javascript, because it could be put on a website, or so I was told. After I finished that, I changed my part of the Flask but I wasn't able to put the actual game on there and as it turns out that we have to use fastpages for the frontend, and I am pretty sure I am done with the backend part as well the Devops part, so all I have to work on is the frontend."
   ]
  }
 ],
 "metadata": {
  "language_info": {
   "name": "python"
  },
  "orig_nbformat": 4
 },
 "nbformat": 4,
 "nbformat_minor": 2
}
